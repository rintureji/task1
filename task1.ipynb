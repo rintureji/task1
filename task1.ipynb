{
  "nbformat": 4,
  "nbformat_minor": 0,
  "metadata": {
    "colab": {
      "name": "task1.ipynb",
      "provenance": [],
      "collapsed_sections": [],
      "authorship_tag": "ABX9TyNPiVFgFZAdVEUXZ5AL+auD",
      "include_colab_link": true
    },
    "kernelspec": {
      "name": "python3",
      "display_name": "Python 3"
    }
  },
  "cells": [
    {
      "cell_type": "markdown",
      "metadata": {
        "id": "view-in-github",
        "colab_type": "text"
      },
      "source": [
        "<a href=\"https://colab.research.google.com/github/rintureji/task1/blob/main/task1.ipynb\" target=\"_parent\"><img src=\"https://colab.research.google.com/assets/colab-badge.svg\" alt=\"Open In Colab\"/></a>"
      ]
    },
    {
      "cell_type": "markdown",
      "metadata": {
        "id": "cJTdmd8xC1Rd"
      },
      "source": [
        "#Analyst Name : RINTU REJI"
      ]
    },
    {
      "cell_type": "markdown",
      "metadata": {
        "id": "_eSq0hCpdf-Q"
      },
      "source": [
        "#Task 1: Linear Regression\r\n",
        "###The task is to predict the percentage of marks that a student is expected to score based upon the number of hours they studied.In the given data set, Hours is the independent variable and Marks is the dependent variable"
      ]
    },
    {
      "cell_type": "code",
      "metadata": {
        "id": "rAj-mRfId-pT"
      },
      "source": [
        "#importing the required libraries for this task\r\n",
        "import pandas as pd\r\n",
        "import numpy as np\r\n",
        "import matplotlib.pyplot as plt  \r\n",
        "%matplotlib inline"
      ],
      "execution_count": null,
      "outputs": []
    },
    {
      "cell_type": "code",
      "metadata": {
        "colab": {
          "base_uri": "https://localhost:8080/",
          "height": 221
        },
        "id": "vbp3io_6e9BV",
        "outputId": "3a8b2935-91ad-4755-cb7c-45413733717b"
      },
      "source": [
        "#reading the provided data using read_csv() of pandas\r\n",
        "sdata=pd.read_csv(\"http://bit.ly/w-data\")\r\n",
        "print(\"Data is imported\")\r\n",
        "sdata.head() #shows first 5 data sets\r\n"
      ],
      "execution_count": null,
      "outputs": [
        {
          "output_type": "stream",
          "text": [
            "Data is imported\n"
          ],
          "name": "stdout"
        },
        {
          "output_type": "execute_result",
          "data": {
            "text/html": [
              "<div>\n",
              "<style scoped>\n",
              "    .dataframe tbody tr th:only-of-type {\n",
              "        vertical-align: middle;\n",
              "    }\n",
              "\n",
              "    .dataframe tbody tr th {\n",
              "        vertical-align: top;\n",
              "    }\n",
              "\n",
              "    .dataframe thead th {\n",
              "        text-align: right;\n",
              "    }\n",
              "</style>\n",
              "<table border=\"1\" class=\"dataframe\">\n",
              "  <thead>\n",
              "    <tr style=\"text-align: right;\">\n",
              "      <th></th>\n",
              "      <th>Hours</th>\n",
              "      <th>Scores</th>\n",
              "    </tr>\n",
              "  </thead>\n",
              "  <tbody>\n",
              "    <tr>\n",
              "      <th>0</th>\n",
              "      <td>2.5</td>\n",
              "      <td>21</td>\n",
              "    </tr>\n",
              "    <tr>\n",
              "      <th>1</th>\n",
              "      <td>5.1</td>\n",
              "      <td>47</td>\n",
              "    </tr>\n",
              "    <tr>\n",
              "      <th>2</th>\n",
              "      <td>3.2</td>\n",
              "      <td>27</td>\n",
              "    </tr>\n",
              "    <tr>\n",
              "      <th>3</th>\n",
              "      <td>8.5</td>\n",
              "      <td>75</td>\n",
              "    </tr>\n",
              "    <tr>\n",
              "      <th>4</th>\n",
              "      <td>3.5</td>\n",
              "      <td>30</td>\n",
              "    </tr>\n",
              "  </tbody>\n",
              "</table>\n",
              "</div>"
            ],
            "text/plain": [
              "   Hours  Scores\n",
              "0    2.5      21\n",
              "1    5.1      47\n",
              "2    3.2      27\n",
              "3    8.5      75\n",
              "4    3.5      30"
            ]
          },
          "metadata": {
            "tags": []
          },
          "execution_count": 62
        }
      ]
    },
    {
      "cell_type": "markdown",
      "metadata": {
        "id": "q-xCjeqKo97k"
      },
      "source": [
        "#plotting the data sets"
      ]
    },
    {
      "cell_type": "code",
      "metadata": {
        "colab": {
          "base_uri": "https://localhost:8080/",
          "height": 295
        },
        "id": "ol8-5XOXpCSn",
        "outputId": "03b3b1fd-7d3b-44ed-fb30-e74ab7f98539"
      },
      "source": [
        "sdata.plot(x='Hours',y='Scores',style='o')\r\n",
        "plt.xlabel('Hours studied')\r\n",
        "plt.ylabel('Marks scored')\r\n",
        "plt.title('Hours vs percentage')\r\n",
        "plt.show()"
      ],
      "execution_count": null,
      "outputs": [
        {
          "output_type": "display_data",
          "data": {
            "image/png": "[encoded data removed]",
            "text/plain": [
              "<Figure size 432x288 with 1 Axes>"
            ]
          },
          "metadata": {
            "tags": [],
            "needs_background": "light"
          }
        }
      ]
    },
    {
      "cell_type": "markdown",
      "metadata": {
        "id": "mzNKqrURsEOn"
      },
      "source": [
        "we can see that the graph has a positive slope"
      ]
    },
    {
      "cell_type": "markdown",
      "metadata": {
        "id": "FHegvN-v5xgL"
      },
      "source": [
        "##Dividing data into attributes and labels"
      ]
    },
    {
      "cell_type": "code",
      "metadata": {
        "id": "dWU2C6YOsKeW"
      },
      "source": [
        "X=sdata.iloc[: , :-1].values #all columns except last column will be selected\r\n",
        "y=sdata.iloc[:,1].values\r\n",
        "#print(X)\r\n",
        "#print(X.shape)"
      ],
      "execution_count": null,
      "outputs": []
    },
    {
      "cell_type": "markdown",
      "metadata": {
        "id": "Y_LZdjHBBsBe"
      },
      "source": [
        "##split the data to training and testing data"
      ]
    },
    {
      "cell_type": "code",
      "metadata": {
        "id": "k-JcpQuMBxWx"
      },
      "source": [
        "#Here, I used the train_test_split method\r\n",
        "from sklearn.model_selection import train_test_split  \r\n",
        "X_train, X_test, y_train, y_test = train_test_split(X, y, test_size=0.2, random_state=0) #giving 20% of data for testing and 80% for training purpose\r\n",
        "#print(y_test)\r\n",
        "#print(X_train)"
      ],
      "execution_count": null,
      "outputs": []
    },
    {
      "cell_type": "markdown",
      "metadata": {
        "id": "HGTCYnfEIEUd"
      },
      "source": [
        "##Training the data"
      ]
    },
    {
      "cell_type": "code",
      "metadata": {
        "colab": {
          "base_uri": "https://localhost:8080/"
        },
        "id": "mBxIXueoH66q",
        "outputId": "e76ccc22-a85a-4f89-dc58-1a3d75657cdb"
      },
      "source": [
        "#importing LinearRegression class \r\n",
        "from sklearn.linear_model import LinearRegression  \r\n",
        "regressor = LinearRegression()  \r\n",
        "regressor.fit(X_train, y_train) "
      ],
      "execution_count": null,
      "outputs": [
        {
          "output_type": "execute_result",
          "data": {
            "text/plain": [
              "LinearRegression(copy_X=True, fit_intercept=True, n_jobs=None, normalize=False)"
            ]
          },
          "metadata": {
            "tags": []
          },
          "execution_count": 66
        }
      ]
    },
    {
      "cell_type": "code",
      "metadata": {
        "colab": {
          "base_uri": "https://localhost:8080/"
        },
        "id": "HnkENeu9LfDT",
        "outputId": "cf9f6805-31a9-49b3-8380-6106df4681ff"
      },
      "source": [
        "#finding m and c in the eqn y=mx+c\r\n",
        "print(\"intercept is {}\".format(regressor.intercept_))\r\n",
        "print(\"coefficient is {}\".format(regressor.coef_))"
      ],
      "execution_count": null,
      "outputs": [
        {
          "output_type": "stream",
          "text": [
            "intercept is 2.018160041434662\n",
            "coefficient is [9.91065648]\n"
          ],
          "name": "stdout"
        }
      ]
    },
    {
      "cell_type": "markdown",
      "metadata": {
        "id": "ohjXNyGcMQcT"
      },
      "source": [
        "coefficient value indicates that for every one unit of change in hours studied,the change in score is approximately 9.91%"
      ]
    },
    {
      "cell_type": "markdown",
      "metadata": {
        "id": "IhXKmjhhDUtr"
      },
      "source": [
        "##Plotting regression line"
      ]
    },
    {
      "cell_type": "code",
      "metadata": {
        "colab": {
          "base_uri": "https://localhost:8080/",
          "height": 265
        },
        "id": "UQk9snwPhSio",
        "outputId": "a5d9d0fb-123c-4c4b-f5f8-5588a34625df"
      },
      "source": [
        "line = regressor.coef_*X+regressor.intercept_\r\n",
        "\r\n",
        "# Plotting for the test data\r\n",
        "plt.scatter(X, y)\r\n",
        "plt.plot(X, line,color='red');\r\n",
        "plt.show()"
      ],
      "execution_count": null,
      "outputs": [
        {
          "output_type": "display_data",
          "data": {
            "image/png": "[encoded data removed]",
            "text/plain": [
              "<Figure size 432x288 with 1 Axes>"
            ]
          },
          "metadata": {
            "tags": [],
            "needs_background": "light"
          }
        }
      ]
    },
    {
      "cell_type": "markdown",
      "metadata": {
        "id": "uQeMwd_MNFE0"
      },
      "source": [
        "##Testing Data"
      ]
    },
    {
      "cell_type": "code",
      "metadata": {
        "id": "MaOpZa4YMhTz"
      },
      "source": [
        "y_pred=regressor.predict(X_test)\r\n",
        "# y_pred numpy array contains all the predicted values for the input values of X_test series\r\n"
      ],
      "execution_count": null,
      "outputs": []
    },
    {
      "cell_type": "markdown",
      "metadata": {
        "id": "lKCdWXbCOITu"
      },
      "source": [
        "##comparing actual output values with the predicted values"
      ]
    },
    {
      "cell_type": "code",
      "metadata": {
        "colab": {
          "base_uri": "https://localhost:8080/",
          "height": 204
        },
        "id": "Vc6HKmBkOPRJ",
        "outputId": "6b1e9871-822c-4df8-84d2-a82df35831bf"
      },
      "source": [
        "df=pd.DataFrame({'Actual':y_test,'Predicted':y_pred})\r\n",
        "df"
      ],
      "execution_count": null,
      "outputs": [
        {
          "output_type": "execute_result",
          "data": {
            "text/html": [
              "<div>\n",
              "<style scoped>\n",
              "    .dataframe tbody tr th:only-of-type {\n",
              "        vertical-align: middle;\n",
              "    }\n",
              "\n",
              "    .dataframe tbody tr th {\n",
              "        vertical-align: top;\n",
              "    }\n",
              "\n",
              "    .dataframe thead th {\n",
              "        text-align: right;\n",
              "    }\n",
              "</style>\n",
              "<table border=\"1\" class=\"dataframe\">\n",
              "  <thead>\n",
              "    <tr style=\"text-align: right;\">\n",
              "      <th></th>\n",
              "      <th>Actual</th>\n",
              "      <th>Predicted</th>\n",
              "    </tr>\n",
              "  </thead>\n",
              "  <tbody>\n",
              "    <tr>\n",
              "      <th>0</th>\n",
              "      <td>20</td>\n",
              "      <td>16.884145</td>\n",
              "    </tr>\n",
              "    <tr>\n",
              "      <th>1</th>\n",
              "      <td>27</td>\n",
              "      <td>33.732261</td>\n",
              "    </tr>\n",
              "    <tr>\n",
              "      <th>2</th>\n",
              "      <td>69</td>\n",
              "      <td>75.357018</td>\n",
              "    </tr>\n",
              "    <tr>\n",
              "      <th>3</th>\n",
              "      <td>30</td>\n",
              "      <td>26.794801</td>\n",
              "    </tr>\n",
              "    <tr>\n",
              "      <th>4</th>\n",
              "      <td>62</td>\n",
              "      <td>60.491033</td>\n",
              "    </tr>\n",
              "  </tbody>\n",
              "</table>\n",
              "</div>"
            ],
            "text/plain": [
              "   Actual  Predicted\n",
              "0      20  16.884145\n",
              "1      27  33.732261\n",
              "2      69  75.357018\n",
              "3      30  26.794801\n",
              "4      62  60.491033"
            ]
          },
          "metadata": {
            "tags": []
          },
          "execution_count": 70
        }
      ]
    },
    {
      "cell_type": "markdown",
      "metadata": {
        "id": "g-0_QWdSPKai"
      },
      "source": [
        "The predicted percentages are close to the actual ones"
      ]
    },
    {
      "cell_type": "markdown",
      "metadata": {
        "id": "gNgNW9-vP2qa"
      },
      "source": [
        "##Evaluation of algorithm"
      ]
    },
    {
      "cell_type": "code",
      "metadata": {
        "colab": {
          "base_uri": "https://localhost:8080/"
        },
        "id": "93MaIbfCPRuv",
        "outputId": "96553e27-9d6b-4bb1-f2a9-4ccc3b05303f"
      },
      "source": [
        "from sklearn import metrics\r\n",
        "print(\"Mean Absolute Error:\",metrics.mean_absolute_error(y_test,y_pred))\r\n",
        "print(\"Mean squared Error:\",metrics.mean_squared_error(y_test,y_pred))\r\n",
        "print(\"Root Mean squaredError:\",np.sqrt(metrics.mean_squared_error(y_test,y_pred)))"
      ],
      "execution_count": null,
      "outputs": [
        {
          "output_type": "stream",
          "text": [
            "Mean Absolute Error: 4.183859899002982\n",
            "Mean squared Error: 21.598769307217456\n",
            "Root Mean squaredError: 4.647447612100373\n"
          ],
          "name": "stdout"
        }
      ]
    },
    {
      "cell_type": "markdown",
      "metadata": {
        "id": "1DotuvWsRSmE"
      },
      "source": [
        "since the Root mean squared error is 4.64 which is less than 10% of the mean value of percentages of all students. So, our model is pretty good"
      ]
    },
    {
      "cell_type": "code",
      "metadata": {
        "colab": {
          "base_uri": "https://localhost:8080/"
        },
        "id": "Eyew5v3je2t0",
        "outputId": "b2fb49b1-5456-43ab-d8f8-fa30fbf88b5a"
      },
      "source": [
        "#finding the marks if a student studies for 9.25 hrs \r\n",
        "#y=mx+c\r\n",
        "mark=float(regressor.coef_*9.25+regressor.intercept_)\r\n",
        "print(\"predicted marks if a student studies for 9.25 hrs\",mark)"
      ],
      "execution_count": null,
      "outputs": [
        {
          "output_type": "stream",
          "text": [
            "predicted marks if a student studies for 9.25 hrs 93.69173248737539\n"
          ],
          "name": "stdout"
        }
      ]
    }
  ]
}